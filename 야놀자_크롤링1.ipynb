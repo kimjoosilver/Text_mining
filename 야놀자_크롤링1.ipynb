{
 "cells": [
  {
   "cell_type": "code",
   "execution_count": 74,
   "id": "e0776498",
   "metadata": {},
   "outputs": [],
   "source": [
    "import selenium\n",
    "import pandas as pd\n",
    "from bs4 import BeautifulSoup\n",
    "import requests\n",
    "import numpy as np\n",
    "from selenium import webdriver\n",
    "from selenium.webdriver.common.by import By\n",
    "from selenium.webdriver.common.keys import Keys\n",
    "import time"
   ]
  },
  {
   "cell_type": "code",
   "execution_count": 69,
   "id": "96b649d4",
   "metadata": {},
   "outputs": [
    {
     "name": "stderr",
     "output_type": "stream",
     "text": [
      "C:\\Users\\jooeun\\AppData\\Local\\Temp\\ipykernel_3476\\3647625852.py:1: DeprecationWarning: executable_path has been deprecated, please pass in a Service object\n",
      "  driver=webdriver.Chrome(executable_path='C:\\\\Users\\\\jooeun\\\\Downloads\\\\chromedriver_win32\\\\chromedriver.exe')\n"
     ]
    }
   ],
   "source": [
    "driver=webdriver.Chrome(executable_path='C:\\\\Users\\\\jooeun\\\\Downloads\\\\chromedriver_win32\\\\chromedriver.exe')\n",
    "url='https://www.yanolja.com/search/애견동반?keyword=애견동반&searchKeyword=애견동반'\n",
    "driver.get(url)"
   ]
  },
  {
   "cell_type": "code",
   "execution_count": 40,
   "id": "5669315b",
   "metadata": {},
   "outputs": [],
   "source": [
    "#데이터를 더 불러오기 위해 아래로 내린다.\n",
    "for i in range(0,30):\n",
    "    driver.find_element(By.TAG_NAME, 'body').send_keys(Keys.END)#아래로 내리기\n",
    "    time.sleep(3)#묵시적 대기로 바꾸기\n",
    "    \n"
   ]
  },
  {
   "cell_type": "code",
   "execution_count": 41,
   "id": "d506c7cc",
   "metadata": {},
   "outputs": [],
   "source": [
    "dl=driver.find_elements(By.CLASS_NAME, \"PlaceListItemText_container__fUIgA.text-unit\")\n",
    "#dl[0].find_element(By.TAG_NAME, 'a').get_attribute('href')\n",
    "\n"
   ]
  },
  {
   "cell_type": "code",
   "execution_count": 46,
   "id": "98cc1a7e",
   "metadata": {},
   "outputs": [
    {
     "data": {
      "text/plain": [
       "1358"
      ]
     },
     "execution_count": 46,
     "metadata": {},
     "output_type": "execute_result"
    }
   ],
   "source": [
    "#for 문을 이용해 주소 가져오기\n",
    "urls=[]\n",
    "names=[]\n",
    "\n",
    "for temp_dl in dl:\n",
    "    urls.append(temp_dl.find_element(By.TAG_NAME, 'a').get_attribute('href'))\n",
    "    names.append(temp_dl.find_element(By.TAG_NAME, 'a').get_attribute('title'))\n",
    "len(urls)\n",
    "len(names)"
   ]
  },
  {
   "cell_type": "code",
   "execution_count": 51,
   "id": "54ba96aa",
   "metadata": {},
   "outputs": [],
   "source": [
    "my_df=pd.DataFrame({\"name\":names, \"url\":urls})\n",
    "my_df.to_csv('yanolja.csv', index=False, encoding=\"utf-8-sig\")"
   ]
  },
  {
   "cell_type": "code",
   "execution_count": 49,
   "id": "01e2d58c",
   "metadata": {},
   "outputs": [
    {
     "data": {
      "text/html": [
       "<div>\n",
       "<style scoped>\n",
       "    .dataframe tbody tr th:only-of-type {\n",
       "        vertical-align: middle;\n",
       "    }\n",
       "\n",
       "    .dataframe tbody tr th {\n",
       "        vertical-align: top;\n",
       "    }\n",
       "\n",
       "    .dataframe thead th {\n",
       "        text-align: right;\n",
       "    }\n",
       "</style>\n",
       "<table border=\"1\" class=\"dataframe\">\n",
       "  <thead>\n",
       "    <tr style=\"text-align: right;\">\n",
       "      <th></th>\n",
       "      <th>name</th>\n",
       "      <th>url</th>\n",
       "    </tr>\n",
       "  </thead>\n",
       "  <tbody>\n",
       "    <tr>\n",
       "      <th>0</th>\n",
       "      <td>서산 펫앤트리애견글램핑(개별바베큐)</td>\n",
       "      <td>https://www.yanolja.com/pension/10043046</td>\n",
       "    </tr>\n",
       "    <tr>\n",
       "      <th>1</th>\n",
       "      <td>강릉 굿캠핑펜션</td>\n",
       "      <td>https://www.yanolja.com/pension/1000108381</td>\n",
       "    </tr>\n",
       "    <tr>\n",
       "      <th>2</th>\n",
       "      <td>강릉 오늘은바다애견펜션(반려견 동반,오션뷰)</td>\n",
       "      <td>https://www.yanolja.com/pension/1000105674</td>\n",
       "    </tr>\n",
       "    <tr>\n",
       "      <th>3</th>\n",
       "      <td>가평 트리하우스펜션(애견동반)</td>\n",
       "      <td>https://www.yanolja.com/pension/1000110480</td>\n",
       "    </tr>\n",
       "    <tr>\n",
       "      <th>4</th>\n",
       "      <td>가평 풀빌라빌라퍼즈</td>\n",
       "      <td>https://www.yanolja.com/pension/10041157</td>\n",
       "    </tr>\n",
       "  </tbody>\n",
       "</table>\n",
       "</div>"
      ],
      "text/plain": [
       "                       name                                         url\n",
       "0       서산 펫앤트리애견글램핑(개별바베큐)    https://www.yanolja.com/pension/10043046\n",
       "1                  강릉 굿캠핑펜션  https://www.yanolja.com/pension/1000108381\n",
       "2  강릉 오늘은바다애견펜션(반려견 동반,오션뷰)  https://www.yanolja.com/pension/1000105674\n",
       "3          가평 트리하우스펜션(애견동반)  https://www.yanolja.com/pension/1000110480\n",
       "4                가평 풀빌라빌라퍼즈    https://www.yanolja.com/pension/10041157"
      ]
     },
     "execution_count": 49,
     "metadata": {},
     "output_type": "execute_result"
    }
   ],
   "source": [
    "my_df.head()"
   ]
  },
  {
   "cell_type": "code",
   "execution_count": 70,
   "id": "3af4bd09",
   "metadata": {},
   "outputs": [],
   "source": [
    "driver.quit()"
   ]
  }
 ],
 "metadata": {
  "kernelspec": {
   "display_name": "Alpaco",
   "language": "python",
   "name": "testenv"
  },
  "language_info": {
   "codemirror_mode": {
    "name": "ipython",
    "version": 3
   },
   "file_extension": ".py",
   "mimetype": "text/x-python",
   "name": "python",
   "nbconvert_exporter": "python",
   "pygments_lexer": "ipython3",
   "version": "3.9.16"
  }
 },
 "nbformat": 4,
 "nbformat_minor": 5
}
