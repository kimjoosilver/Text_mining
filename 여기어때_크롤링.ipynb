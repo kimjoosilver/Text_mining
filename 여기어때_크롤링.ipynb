{
  "nbformat": 4,
  "nbformat_minor": 0,
  "metadata": {
    "colab": {
      "provenance": []
    },
    "kernelspec": {
      "name": "python3",
      "display_name": "Python 3"
    },
    "language_info": {
      "name": "python"
    },
    "widgets": {
      "application/vnd.jupyter.widget-state+json": {
        "a31448c5fede4376b474fe1c7d152889": {
          "model_module": "@jupyter-widgets/controls",
          "model_name": "HBoxModel",
          "model_module_version": "1.5.0",
          "state": {
            "_dom_classes": [],
            "_model_module": "@jupyter-widgets/controls",
            "_model_module_version": "1.5.0",
            "_model_name": "HBoxModel",
            "_view_count": null,
            "_view_module": "@jupyter-widgets/controls",
            "_view_module_version": "1.5.0",
            "_view_name": "HBoxView",
            "box_style": "",
            "children": [
              "IPY_MODEL_2514ebe9cd7e4376964843e043cdd7a1",
              "IPY_MODEL_b2ee39b38002466d82e802a8e9e5cb5c",
              "IPY_MODEL_3f54b794570842818c962cbee7c3dcf4"
            ],
            "layout": "IPY_MODEL_76d418b7421943a0b7aca8953c0e7332"
          }
        },
        "2514ebe9cd7e4376964843e043cdd7a1": {
          "model_module": "@jupyter-widgets/controls",
          "model_name": "HTMLModel",
          "model_module_version": "1.5.0",
          "state": {
            "_dom_classes": [],
            "_model_module": "@jupyter-widgets/controls",
            "_model_module_version": "1.5.0",
            "_model_name": "HTMLModel",
            "_view_count": null,
            "_view_module": "@jupyter-widgets/controls",
            "_view_module_version": "1.5.0",
            "_view_name": "HTMLView",
            "description": "",
            "description_tooltip": null,
            "layout": "IPY_MODEL_a9d415cafe3d488584b68118f7100659",
            "placeholder": "​",
            "style": "IPY_MODEL_6886971515344b3ab8e21eca9cc32624",
            "value": "100%"
          }
        },
        "b2ee39b38002466d82e802a8e9e5cb5c": {
          "model_module": "@jupyter-widgets/controls",
          "model_name": "FloatProgressModel",
          "model_module_version": "1.5.0",
          "state": {
            "_dom_classes": [],
            "_model_module": "@jupyter-widgets/controls",
            "_model_module_version": "1.5.0",
            "_model_name": "FloatProgressModel",
            "_view_count": null,
            "_view_module": "@jupyter-widgets/controls",
            "_view_module_version": "1.5.0",
            "_view_name": "ProgressView",
            "bar_style": "success",
            "description": "",
            "description_tooltip": null,
            "layout": "IPY_MODEL_9cebae98807b456dba77d8c38ffbc838",
            "max": 500,
            "min": 0,
            "orientation": "horizontal",
            "style": "IPY_MODEL_53c716bfb58c4b3b9964b7c1498b5fcc",
            "value": 500
          }
        },
        "3f54b794570842818c962cbee7c3dcf4": {
          "model_module": "@jupyter-widgets/controls",
          "model_name": "HTMLModel",
          "model_module_version": "1.5.0",
          "state": {
            "_dom_classes": [],
            "_model_module": "@jupyter-widgets/controls",
            "_model_module_version": "1.5.0",
            "_model_name": "HTMLModel",
            "_view_count": null,
            "_view_module": "@jupyter-widgets/controls",
            "_view_module_version": "1.5.0",
            "_view_name": "HTMLView",
            "description": "",
            "description_tooltip": null,
            "layout": "IPY_MODEL_c6cfe98da6a64b7687cb82b9e2263c6a",
            "placeholder": "​",
            "style": "IPY_MODEL_a966c20f78774a1a92ad17eaf2b181d5",
            "value": " 500/500 [10:15&lt;00:00,  1.27s/it]"
          }
        },
        "76d418b7421943a0b7aca8953c0e7332": {
          "model_module": "@jupyter-widgets/base",
          "model_name": "LayoutModel",
          "model_module_version": "1.2.0",
          "state": {
            "_model_module": "@jupyter-widgets/base",
            "_model_module_version": "1.2.0",
            "_model_name": "LayoutModel",
            "_view_count": null,
            "_view_module": "@jupyter-widgets/base",
            "_view_module_version": "1.2.0",
            "_view_name": "LayoutView",
            "align_content": null,
            "align_items": null,
            "align_self": null,
            "border": null,
            "bottom": null,
            "display": null,
            "flex": null,
            "flex_flow": null,
            "grid_area": null,
            "grid_auto_columns": null,
            "grid_auto_flow": null,
            "grid_auto_rows": null,
            "grid_column": null,
            "grid_gap": null,
            "grid_row": null,
            "grid_template_areas": null,
            "grid_template_columns": null,
            "grid_template_rows": null,
            "height": null,
            "justify_content": null,
            "justify_items": null,
            "left": null,
            "margin": null,
            "max_height": null,
            "max_width": null,
            "min_height": null,
            "min_width": null,
            "object_fit": null,
            "object_position": null,
            "order": null,
            "overflow": null,
            "overflow_x": null,
            "overflow_y": null,
            "padding": null,
            "right": null,
            "top": null,
            "visibility": null,
            "width": null
          }
        },
        "a9d415cafe3d488584b68118f7100659": {
          "model_module": "@jupyter-widgets/base",
          "model_name": "LayoutModel",
          "model_module_version": "1.2.0",
          "state": {
            "_model_module": "@jupyter-widgets/base",
            "_model_module_version": "1.2.0",
            "_model_name": "LayoutModel",
            "_view_count": null,
            "_view_module": "@jupyter-widgets/base",
            "_view_module_version": "1.2.0",
            "_view_name": "LayoutView",
            "align_content": null,
            "align_items": null,
            "align_self": null,
            "border": null,
            "bottom": null,
            "display": null,
            "flex": null,
            "flex_flow": null,
            "grid_area": null,
            "grid_auto_columns": null,
            "grid_auto_flow": null,
            "grid_auto_rows": null,
            "grid_column": null,
            "grid_gap": null,
            "grid_row": null,
            "grid_template_areas": null,
            "grid_template_columns": null,
            "grid_template_rows": null,
            "height": null,
            "justify_content": null,
            "justify_items": null,
            "left": null,
            "margin": null,
            "max_height": null,
            "max_width": null,
            "min_height": null,
            "min_width": null,
            "object_fit": null,
            "object_position": null,
            "order": null,
            "overflow": null,
            "overflow_x": null,
            "overflow_y": null,
            "padding": null,
            "right": null,
            "top": null,
            "visibility": null,
            "width": null
          }
        },
        "6886971515344b3ab8e21eca9cc32624": {
          "model_module": "@jupyter-widgets/controls",
          "model_name": "DescriptionStyleModel",
          "model_module_version": "1.5.0",
          "state": {
            "_model_module": "@jupyter-widgets/controls",
            "_model_module_version": "1.5.0",
            "_model_name": "DescriptionStyleModel",
            "_view_count": null,
            "_view_module": "@jupyter-widgets/base",
            "_view_module_version": "1.2.0",
            "_view_name": "StyleView",
            "description_width": ""
          }
        },
        "9cebae98807b456dba77d8c38ffbc838": {
          "model_module": "@jupyter-widgets/base",
          "model_name": "LayoutModel",
          "model_module_version": "1.2.0",
          "state": {
            "_model_module": "@jupyter-widgets/base",
            "_model_module_version": "1.2.0",
            "_model_name": "LayoutModel",
            "_view_count": null,
            "_view_module": "@jupyter-widgets/base",
            "_view_module_version": "1.2.0",
            "_view_name": "LayoutView",
            "align_content": null,
            "align_items": null,
            "align_self": null,
            "border": null,
            "bottom": null,
            "display": null,
            "flex": null,
            "flex_flow": null,
            "grid_area": null,
            "grid_auto_columns": null,
            "grid_auto_flow": null,
            "grid_auto_rows": null,
            "grid_column": null,
            "grid_gap": null,
            "grid_row": null,
            "grid_template_areas": null,
            "grid_template_columns": null,
            "grid_template_rows": null,
            "height": null,
            "justify_content": null,
            "justify_items": null,
            "left": null,
            "margin": null,
            "max_height": null,
            "max_width": null,
            "min_height": null,
            "min_width": null,
            "object_fit": null,
            "object_position": null,
            "order": null,
            "overflow": null,
            "overflow_x": null,
            "overflow_y": null,
            "padding": null,
            "right": null,
            "top": null,
            "visibility": null,
            "width": null
          }
        },
        "53c716bfb58c4b3b9964b7c1498b5fcc": {
          "model_module": "@jupyter-widgets/controls",
          "model_name": "ProgressStyleModel",
          "model_module_version": "1.5.0",
          "state": {
            "_model_module": "@jupyter-widgets/controls",
            "_model_module_version": "1.5.0",
            "_model_name": "ProgressStyleModel",
            "_view_count": null,
            "_view_module": "@jupyter-widgets/base",
            "_view_module_version": "1.2.0",
            "_view_name": "StyleView",
            "bar_color": null,
            "description_width": ""
          }
        },
        "c6cfe98da6a64b7687cb82b9e2263c6a": {
          "model_module": "@jupyter-widgets/base",
          "model_name": "LayoutModel",
          "model_module_version": "1.2.0",
          "state": {
            "_model_module": "@jupyter-widgets/base",
            "_model_module_version": "1.2.0",
            "_model_name": "LayoutModel",
            "_view_count": null,
            "_view_module": "@jupyter-widgets/base",
            "_view_module_version": "1.2.0",
            "_view_name": "LayoutView",
            "align_content": null,
            "align_items": null,
            "align_self": null,
            "border": null,
            "bottom": null,
            "display": null,
            "flex": null,
            "flex_flow": null,
            "grid_area": null,
            "grid_auto_columns": null,
            "grid_auto_flow": null,
            "grid_auto_rows": null,
            "grid_column": null,
            "grid_gap": null,
            "grid_row": null,
            "grid_template_areas": null,
            "grid_template_columns": null,
            "grid_template_rows": null,
            "height": null,
            "justify_content": null,
            "justify_items": null,
            "left": null,
            "margin": null,
            "max_height": null,
            "max_width": null,
            "min_height": null,
            "min_width": null,
            "object_fit": null,
            "object_position": null,
            "order": null,
            "overflow": null,
            "overflow_x": null,
            "overflow_y": null,
            "padding": null,
            "right": null,
            "top": null,
            "visibility": null,
            "width": null
          }
        },
        "a966c20f78774a1a92ad17eaf2b181d5": {
          "model_module": "@jupyter-widgets/controls",
          "model_name": "DescriptionStyleModel",
          "model_module_version": "1.5.0",
          "state": {
            "_model_module": "@jupyter-widgets/controls",
            "_model_module_version": "1.5.0",
            "_model_name": "DescriptionStyleModel",
            "_view_count": null,
            "_view_module": "@jupyter-widgets/base",
            "_view_module_version": "1.2.0",
            "_view_name": "StyleView",
            "description_width": ""
          }
        }
      }
    }
  },
  "cells": [
    {
      "cell_type": "code",
      "execution_count": null,
      "metadata": {
        "id": "OpmYZQeOnHjb"
      },
      "outputs": [],
      "source": [
        "from bs4 import BeautifulSoup as bs"
      ]
    },
    {
      "cell_type": "code",
      "source": [
        "import pandas as pd "
      ],
      "metadata": {
        "id": "JqU9xYy-nY4m"
      },
      "execution_count": null,
      "outputs": []
    },
    {
      "cell_type": "code",
      "source": [
        "import json\n",
        "import requests\n",
        "from tqdm.notebook import tqdm"
      ],
      "metadata": {
        "id": "5jBgiOjhnhjD"
      },
      "execution_count": null,
      "outputs": []
    },
    {
      "cell_type": "code",
      "source": [
        "import re"
      ],
      "metadata": {
        "id": "0dXKcPQwG2ti"
      },
      "execution_count": null,
      "outputs": []
    },
    {
      "cell_type": "code",
      "source": [
        "url = 'https://www.goodchoice.kr/product/recommend/153'\n",
        "\n",
        "resp = requests.get(url)\n",
        "soup = bs(resp.content, 'lxml')"
      ],
      "metadata": {
        "id": "1McaMaULnjyR"
      },
      "execution_count": null,
      "outputs": []
    },
    {
      "cell_type": "code",
      "source": [
        "#메인 검색에서 url_list 가저옴 \n",
        "url_list = []\n",
        "url = soup.select('div.list_wrap a')\n",
        "\n",
        "\n",
        "for i in url:\n",
        "    url_list.append(i['href'])"
      ],
      "metadata": {
        "id": "oLW6EMEackIH"
      },
      "execution_count": null,
      "outputs": []
    },
    {
      "cell_type": "code",
      "source": [
        "len(url_list)"
      ],
      "metadata": {
        "colab": {
          "base_uri": "https://localhost:8080/"
        },
        "id": "Fa4AlVkPgjte",
        "outputId": "892f8038-409f-4bde-fe82-b6d7bb78e28d"
      },
      "execution_count": null,
      "outputs": [
        {
          "output_type": "execute_result",
          "data": {
            "text/plain": [
              "500"
            ]
          },
          "metadata": {},
          "execution_count": 154
        }
      ]
    },
    {
      "cell_type": "code",
      "source": [
        "#메인 페이지에서 title_list 가져옴 \n",
        "# 500개로 같은거 확인 \n",
        "title_list = [] \n",
        "title = soup.select('div.name strong')\n",
        "for i in title:\n",
        "    print(i.text.strip())\n",
        "    title_list.append(i.text.strip())\n"
      ],
      "metadata": {
        "id": "4wY-kMWhfhM_"
      },
      "execution_count": null,
      "outputs": []
    },
    {
      "cell_type": "code",
      "source": [
        "len(title_list)"
      ],
      "metadata": {
        "colab": {
          "base_uri": "https://localhost:8080/"
        },
        "id": "QqgdvroUhRlu",
        "outputId": "7a189653-8cf4-4192-8f46-83e56836c57b"
      },
      "execution_count": null,
      "outputs": [
        {
          "output_type": "execute_result",
          "data": {
            "text/plain": [
              "500"
            ]
          },
          "metadata": {},
          "execution_count": 157
        }
      ]
    },
    {
      "cell_type": "code",
      "source": [
        "#페이로드에 존재하는 상품명까지 가져오기 .\n",
        "product_num = []\n",
        "for url in url_list:\n",
        "    product_num.append(re.findall('ano=(.+)\\&ad',url))"
      ],
      "metadata": {
        "id": "6c_Q9-T4bgcs"
      },
      "execution_count": null,
      "outputs": []
    },
    {
      "cell_type": "code",
      "source": [
        "len(product_num)"
      ],
      "metadata": {
        "colab": {
          "base_uri": "https://localhost:8080/"
        },
        "id": "0w6MFtmzkXb5",
        "outputId": "9fd6e2fe-36c0-447b-cb5a-5eb26c96ec5c"
      },
      "execution_count": null,
      "outputs": [
        {
          "output_type": "execute_result",
          "data": {
            "text/plain": [
              "500"
            ]
          },
          "metadata": {},
          "execution_count": 159
        }
      ]
    },
    {
      "cell_type": "code",
      "source": [
        "#페이지 내에서 리뷰 + 별점 + 구성용품 가저 오기 \n",
        "url = 'https://www.goodchoice.kr/product/get_review_non' \n",
        "\n",
        "headers = {\n",
        "    'user-agent': 'Mozilla/5.0 (Windows NT 10.0; Win64; x64) AppleWebKit/537.36 (KHTML, like Gecko) Chrome/109.0.0.0 Safari/537.36',\n",
        "    'referer': 'https://www.goodchoice.kr/product/detail?ano=66407&adcno=5&sel_date=2023-02-06&sel_date2=2023-02-07'\n",
        "}\n",
        "\n",
        "data = {\n",
        "    'page': '0',\n",
        "    'ano': '71091'\n",
        "}\n",
        "\n",
        "resp = requests.post(url,data = data ,headers = headers)\n",
        "\n",
        "resp.text\n",
        "\n",
        "\n"
      ],
      "metadata": {
        "id": "EPsadGR_dYAJ",
        "colab": {
          "base_uri": "https://localhost:8080/",
          "height": 54
        },
        "outputId": "907ff731-7058-4549-dfe0-c9af6ab3ffd6"
      },
      "execution_count": null,
      "outputs": [
        {
          "output_type": "execute_result",
          "data": {
            "text/plain": [
              "'\\n{\"result\":{\"ratehouse\":0,\"rateprice\":0,\"rateservice\":0,\"rateavg\":0,\"ownercommcnt\":0,\"rate_textinfo\":\"\",\"userstate\":\"N\",\"total_page_cnt\":0,\"items\":[],\"count\":0,\"score_star\":\"00\"},\"total_page\":0}'"
            ],
            "application/vnd.google.colaboratory.intrinsic+json": {
              "type": "string"
            }
          },
          "metadata": {},
          "execution_count": 116
        }
      ]
    },
    {
      "cell_type": "code",
      "source": [
        "resp.content.lstrip()"
      ],
      "metadata": {
        "colab": {
          "base_uri": "https://localhost:8080/"
        },
        "id": "w-5GsdLpOcXk",
        "outputId": "fe3b723d-c476-488a-881c-79b845feb03f"
      },
      "execution_count": null,
      "outputs": [
        {
          "output_type": "execute_result",
          "data": {
            "text/plain": [
              "b'{\"result\":{\"ratehouse\":0,\"rateprice\":0,\"rateservice\":0,\"rateavg\":0,\"ownercommcnt\":0,\"rate_textinfo\":\"\",\"userstate\":\"N\",\"total_page_cnt\":0,\"items\":[],\"count\":0,\"score_star\":\"00\"},\"total_page\":0}'"
            ]
          },
          "metadata": {},
          "execution_count": 117
        }
      ]
    },
    {
      "cell_type": "code",
      "source": [
        "result = json.loads(resp.content.lstrip())\n",
        "result"
      ],
      "metadata": {
        "colab": {
          "base_uri": "https://localhost:8080/"
        },
        "id": "X2_OSLw4GFgV",
        "outputId": "7686fac1-2416-4a95-bfd2-d07978578184"
      },
      "execution_count": null,
      "outputs": [
        {
          "output_type": "execute_result",
          "data": {
            "text/plain": [
              "{'result': {'ratehouse': 0,\n",
              "  'rateprice': 0,\n",
              "  'rateservice': 0,\n",
              "  'rateavg': 0,\n",
              "  'ownercommcnt': 0,\n",
              "  'rate_textinfo': '',\n",
              "  'userstate': 'N',\n",
              "  'total_page_cnt': 0,\n",
              "  'items': [],\n",
              "  'count': 0,\n",
              "  'score_star': '00'},\n",
              " 'total_page': 0}"
            ]
          },
          "metadata": {},
          "execution_count": 118
        }
      ]
    },
    {
      "cell_type": "code",
      "source": [
        "result['result']['rateavg']\n",
        "\n",
        "###별점 get !  "
      ],
      "metadata": {
        "colab": {
          "base_uri": "https://localhost:8080/"
        },
        "id": "8wp4ecOnRJsO",
        "outputId": "7cd60f52-1214-4b7f-d963-36b3ca95a774"
      },
      "execution_count": null,
      "outputs": [
        {
          "output_type": "execute_result",
          "data": {
            "text/plain": [
              "0"
            ]
          },
          "metadata": {},
          "execution_count": 119
        }
      ]
    },
    {
      "cell_type": "code",
      "source": [
        "comment = [] \n",
        "for i in result['result']['items']:\n",
        "    comment.append(i['aepcont'])\n",
        "\n",
        "if len(comment) == 0 :\n",
        "    comment.append(\"리뷰가 없습니다\")"
      ],
      "metadata": {
        "id": "A_M7nGj2Gvto"
      },
      "execution_count": null,
      "outputs": []
    },
    {
      "cell_type": "code",
      "source": [
        "comment"
      ],
      "metadata": {
        "colab": {
          "base_uri": "https://localhost:8080/"
        },
        "id": "7e_f3QW0Sg91",
        "outputId": "d3f03abb-6393-404e-936e-f9c4f99e78c6"
      },
      "execution_count": null,
      "outputs": [
        {
          "output_type": "execute_result",
          "data": {
            "text/plain": [
              "['리뷰가 없습니다']"
            ]
          },
          "metadata": {},
          "execution_count": 125
        }
      ]
    },
    {
      "cell_type": "code",
      "source": [
        "#부대시설 가져오기 \n",
        "\n",
        "url1 = 'https://www.goodchoice.kr/product/get_theme_list_non' \n",
        "\n",
        "headers = {\n",
        "    'user-agent': 'Mozilla/5.0 (Windows NT 10.0; Win64; x64) AppleWebKit/537.36 (KHTML, like Gecko) Chrome/109.0.0.0 Safari/537.36',\n",
        "    'referer': 'https://www.goodchoice.kr/product/detail?ano=66407&adcno=5&sel_date=2023-02-06&sel_date2=2023-02-07'\n",
        "}\n",
        "data1 = {\n",
        "    'ano': '66407'\n",
        "}\n",
        "\n",
        "resp1 = requests.post(url1,data = data1 ,headers = headers)\n",
        "\n",
        "resp1.text\n"
      ],
      "metadata": {
        "id": "RjRiJcLfMx8c",
        "colab": {
          "base_uri": "https://localhost:8080/",
          "height": 144
        },
        "outputId": "4bc2b14d-784c-4d98-e938-d56e75e35278"
      },
      "execution_count": null,
      "outputs": [
        {
          "output_type": "execute_result",
          "data": {
            "text/plain": [
              "'\\n{\"code\":200,\"data\":[{\"tmino\":81,\"tminame\":\"\\\\uac1c\\\\uc218\\\\ub300\",\"images\":[]},{\"tmino\":85,\"tminame\":\"\\\\ub9e4\\\\uc810\",\"images\":[]},{\"tmino\":270,\"tminame\":\"\\\\uc8fc\\\\ucc28\\\\uc7a5\",\"images\":[]},{\"tmino\":273,\"tminame\":\"BBQ\",\"images\":[]},{\"tmino\":276,\"tminame\":\"\\\\uc640\\\\uc774\\\\ud30c\\\\uc774\",\"images\":[]},{\"tmino\":277,\"tminame\":\"TV\",\"images\":[]},{\"tmino\":278,\"tminame\":\"\\\\uc695\\\\uc2e4\\\\uc6a9\\\\ud488\",\"images\":[]},{\"tmino\":281,\"tminame\":\"\\\\uc5d0\\\\uc5b4\\\\ucee8\",\"images\":[]},{\"tmino\":282,\"tminame\":\"\\\\ub0c9\\\\uc7a5\\\\uace0\",\"images\":[]},{\"tmino\":283,\"tminame\":\"\\\\uac1d\\\\uc2e4\\\\uc0e4\\\\uc6cc\\\\uc2e4\",\"images\":[]},{\"tmino\":285,\"tminame\":\"\\\\ub4dc\\\\ub77c\\\\uc774\\\\uae30\",\"images\":[]},{\"tmino\":287,\"tminame\":\"\\\\uc804\\\\uae30\\\\ubc25\\\\uc1a5\",\"images\":[]},{\"tmino\":291,\"tminame\":\"\\\\ubc18\\\\ub824\\\\uacac\\\\ub3d9\\\\ubc18\",\"images\":[]},{\"tmino\":292,\"tminame\":\"\\\\uac1d\\\\uc2e4\\\\ub0b4\\\\ucde8\\\\uc0ac\",\"images\":[]},{\"tmino\":321,\"tminame\":\"\\\\uae08\\\\uc5f0\",\"images\":[]}],\"msg\":\"OK\",\"querytime\":0,\"servertime\":1675648467}'"
            ],
            "application/vnd.google.colaboratory.intrinsic+json": {
              "type": "string"
            }
          },
          "metadata": {},
          "execution_count": 66
        }
      ]
    },
    {
      "cell_type": "code",
      "source": [
        "facility = []\n",
        "result1 = json.loads(resp1.content.lstrip())\n",
        "for i in result1['data']:\n",
        "    facility.append(i['tminame'])\n",
        "\n",
        "facility"
      ],
      "metadata": {
        "colab": {
          "base_uri": "https://localhost:8080/"
        },
        "id": "inLVQqBWbbda",
        "outputId": "f70a9b60-dfde-4da8-82d2-7b1cdcee95da"
      },
      "execution_count": null,
      "outputs": [
        {
          "output_type": "execute_result",
          "data": {
            "text/plain": [
              "['개수대',\n",
              " '매점',\n",
              " '주차장',\n",
              " 'BBQ',\n",
              " '와이파이',\n",
              " 'TV',\n",
              " '욕실용품',\n",
              " '에어컨',\n",
              " '냉장고',\n",
              " '객실샤워실',\n",
              " '드라이기',\n",
              " '전기밥솥',\n",
              " '반려견동반',\n",
              " '객실내취사',\n",
              " '금연']"
            ]
          },
          "metadata": {},
          "execution_count": 76
        }
      ]
    },
    {
      "cell_type": "code",
      "source": [
        "product_num"
      ],
      "metadata": {
        "id": "aru6oY7c4h4_"
      },
      "execution_count": null,
      "outputs": []
    },
    {
      "cell_type": "code",
      "source": [
        "rate = []\n",
        "total_comments = []\n",
        "total_facility = [] \n",
        "review_count = []\n",
        "for num in tqdm(product_num):\n",
        "    comment = [] \n",
        "    facility = []\n",
        "\n",
        "    #페이지 내에서 리뷰 + 별점 + 구성용품 가저 오기 \n",
        "    url = 'https://www.goodchoice.kr/product/get_review_non' \n",
        "\n",
        "    headers = {\n",
        "        'user-agent': 'Mozilla/5.0 (Windows NT 10.0; Win64; x64) AppleWebKit/537.36 (KHTML, like Gecko) Chrome/109.0.0.0 Safari/537.36',\n",
        "        'referer': 'https://www.goodchoice.kr/product/detail?ano=66407&adcno=5&sel_date=2023-02-06&sel_date2=2023-02-07'\n",
        "    }\n",
        "\n",
        "    data = {\n",
        "        'page': '0',\n",
        "        'ano': num\n",
        "    }\n",
        "\n",
        "    resp = requests.post(url,data = data ,headers = headers)\n",
        "\n",
        "    resp.text\n",
        "    resp.content.lstrip()\n",
        "\n",
        "    result = json.loads(resp.content.lstrip())\n",
        "    rate.append(result['result']['rateavg'])\n",
        "\n",
        "    #각 호텔별 리뷰 가져오기 \n",
        "    for i in result['result']['items']:\n",
        "        comment.append(i['aepcont'])\n",
        "        if len(comment) == 0 :\n",
        "            comment.append(\"리뷰가 없습니다\")\n",
        "    #전체에 공유할 하나의 호텔 리뷰들 저장\n",
        "    total_comments.append(comment)\n",
        "    #리뷰 개수 저장 \n",
        "    review_count.append(len(comment))\n",
        "\n",
        "    for i in result1['data']:\n",
        "        facility.append(i['tminame'])\n",
        "    total_facility.append(facility)\n",
        "    "
      ],
      "metadata": {
        "colab": {
          "base_uri": "https://localhost:8080/",
          "height": 49,
          "referenced_widgets": [
            "a31448c5fede4376b474fe1c7d152889",
            "2514ebe9cd7e4376964843e043cdd7a1",
            "b2ee39b38002466d82e802a8e9e5cb5c",
            "3f54b794570842818c962cbee7c3dcf4",
            "76d418b7421943a0b7aca8953c0e7332",
            "a9d415cafe3d488584b68118f7100659",
            "6886971515344b3ab8e21eca9cc32624",
            "9cebae98807b456dba77d8c38ffbc838",
            "53c716bfb58c4b3b9964b7c1498b5fcc",
            "c6cfe98da6a64b7687cb82b9e2263c6a",
            "a966c20f78774a1a92ad17eaf2b181d5"
          ]
        },
        "id": "wfdCIjswGW55",
        "outputId": "328825b2-64ed-4a85-b0a6-a507d789af80"
      },
      "execution_count": null,
      "outputs": [
        {
          "output_type": "display_data",
          "data": {
            "text/plain": [
              "  0%|          | 0/500 [00:00<?, ?it/s]"
            ],
            "application/vnd.jupyter.widget-view+json": {
              "version_major": 2,
              "version_minor": 0,
              "model_id": "a31448c5fede4376b474fe1c7d152889"
            }
          },
          "metadata": {}
        }
      ]
    },
    {
      "cell_type": "code",
      "source": [
        "len(total_comments),len(total_facility), len(review_count), len(rate) "
      ],
      "metadata": {
        "colab": {
          "base_uri": "https://localhost:8080/"
        },
        "id": "8wynKqUxGEL2",
        "outputId": "cc3a9808-06f5-44ed-cd8c-47a83306ee94"
      },
      "execution_count": null,
      "outputs": [
        {
          "output_type": "execute_result",
          "data": {
            "text/plain": [
              "(500, 500, 500, 500)"
            ]
          },
          "metadata": {},
          "execution_count": 166
        }
      ]
    },
    {
      "cell_type": "code",
      "source": [
        "import pandas as pd \n",
        "\n",
        "df = pd.DataFrame({'name' : title_list, 'num' : product_num, 'url': url_list, 'rate': rate, 'review_num': review_count,  'comments' : total_comments, 'facility': total_facility})\n",
        "df"
      ],
      "metadata": {
        "colab": {
          "base_uri": "https://localhost:8080/",
          "height": 814
        },
        "id": "2GNyV8s3lNKt",
        "outputId": "8645ffde-f839-4879-c18f-084c5347397f"
      },
      "execution_count": null,
      "outputs": [
        {
          "output_type": "execute_result",
          "data": {
            "text/plain": [
              "                                       name      num  \\\n",
              "0                              포천 산울터애견동반펜션  [61224]   \n",
              "1                          고성 설악의정원 애견펜션&카페  [67715]   \n",
              "2                           안동 하회로가는 애견동반펜션  [68156]   \n",
              "3                                 거제 여울애견펜션  [67079]   \n",
              "4                                영흥도 아침해변펜션  [71612]   \n",
              "..                                      ...      ...   \n",
              "495                                경주 하녹풀빌라  [70461]   \n",
              "496  넓은 마당에서 반려견과 함께 힐링할 수 있는 숙소 | 구름산코지하우스  [72982]   \n",
              "497                               동해 망상파란펜션  [57511]   \n",
              "498                               김천 오색애견펜션  [67908]   \n",
              "499                                무주 그랜드펜션  [67317]   \n",
              "\n",
              "                                                   url  rate  review_num  \\\n",
              "0    https://www.goodchoice.kr/product/detail?ano=6...   9.0           4   \n",
              "1    https://www.goodchoice.kr/product/detail?ano=6...  10.0           7   \n",
              "2    https://www.goodchoice.kr/product/detail?ano=6...  10.0           5   \n",
              "3    https://www.goodchoice.kr/product/detail?ano=6...  10.0           2   \n",
              "4    https://www.goodchoice.kr/product/detail?ano=7...   0.0           0   \n",
              "..                                                 ...   ...         ...   \n",
              "495  https://www.goodchoice.kr/product/detail?ano=7...   0.0           0   \n",
              "496  https://www.goodchoice.kr/product/detail?ano=7...   0.0           0   \n",
              "497  https://www.goodchoice.kr/product/detail?ano=5...   7.1          15   \n",
              "498  https://www.goodchoice.kr/product/detail?ano=6...   9.9          12   \n",
              "499  https://www.goodchoice.kr/product/detail?ano=6...   7.2          15   \n",
              "\n",
              "                                              comments  \\\n",
              "0    [부모님 모시고 갔는데 너무 좋았습니다, 급하게 예약했는데 가격이 저렴하지만 전부 ...   \n",
              "1    [다른데는 강아지 종 따지고 소형견만 된다고 했는데\\n15~16키로 나가는 중형견 ...   \n",
              "2    [부모님께서 그간 여러군데 펜션을 다녀봤지만 이렇게 정있고 세심하게 챙겨주는 곳은 ...   \n",
              "3    [여울팬션   완젼  쵝오입니다!!\\n사장님께서  직접  손으로 적어주신  주변  ...   \n",
              "4                                                   []   \n",
              "..                                                 ...   \n",
              "495                                                 []   \n",
              "496                                                 []   \n",
              "497  [다시는 가고싶지않은숙소 입니다~\\n204호 2인기준 최대4인 이라했지만 넷이서 쓰...   \n",
              "498  [얘견동반 추천드립니다^^ 시설도 깨끗하고 사장님도 친절하십니다, 바로 앞에 편의점...   \n",
              "499  [사장님 친절합니다.\\n방은 우풍이 좀 있는편인데 잠자는건 잘만합니다.\\n방에 거울...   \n",
              "\n",
              "                                              facility  \n",
              "0    [개수대, 매점, 주차장, BBQ, 와이파이, TV, 욕실용품, 에어컨, 냉장고, ...  \n",
              "1    [개수대, 매점, 주차장, BBQ, 와이파이, TV, 욕실용품, 에어컨, 냉장고, ...  \n",
              "2    [개수대, 매점, 주차장, BBQ, 와이파이, TV, 욕실용품, 에어컨, 냉장고, ...  \n",
              "3    [개수대, 매점, 주차장, BBQ, 와이파이, TV, 욕실용품, 에어컨, 냉장고, ...  \n",
              "4    [개수대, 매점, 주차장, BBQ, 와이파이, TV, 욕실용품, 에어컨, 냉장고, ...  \n",
              "..                                                 ...  \n",
              "495  [개수대, 매점, 주차장, BBQ, 와이파이, TV, 욕실용품, 에어컨, 냉장고, ...  \n",
              "496  [개수대, 매점, 주차장, BBQ, 와이파이, TV, 욕실용품, 에어컨, 냉장고, ...  \n",
              "497  [개수대, 매점, 주차장, BBQ, 와이파이, TV, 욕실용품, 에어컨, 냉장고, ...  \n",
              "498  [개수대, 매점, 주차장, BBQ, 와이파이, TV, 욕실용품, 에어컨, 냉장고, ...  \n",
              "499  [개수대, 매점, 주차장, BBQ, 와이파이, TV, 욕실용품, 에어컨, 냉장고, ...  \n",
              "\n",
              "[500 rows x 7 columns]"
            ],
            "text/html": [
              "\n",
              "  <div id=\"df-51ad0b60-ff45-4fc8-9607-39a164b0fc96\">\n",
              "    <div class=\"colab-df-container\">\n",
              "      <div>\n",
              "<style scoped>\n",
              "    .dataframe tbody tr th:only-of-type {\n",
              "        vertical-align: middle;\n",
              "    }\n",
              "\n",
              "    .dataframe tbody tr th {\n",
              "        vertical-align: top;\n",
              "    }\n",
              "\n",
              "    .dataframe thead th {\n",
              "        text-align: right;\n",
              "    }\n",
              "</style>\n",
              "<table border=\"1\" class=\"dataframe\">\n",
              "  <thead>\n",
              "    <tr style=\"text-align: right;\">\n",
              "      <th></th>\n",
              "      <th>name</th>\n",
              "      <th>num</th>\n",
              "      <th>url</th>\n",
              "      <th>rate</th>\n",
              "      <th>review_num</th>\n",
              "      <th>comments</th>\n",
              "      <th>facility</th>\n",
              "    </tr>\n",
              "  </thead>\n",
              "  <tbody>\n",
              "    <tr>\n",
              "      <th>0</th>\n",
              "      <td>포천 산울터애견동반펜션</td>\n",
              "      <td>[61224]</td>\n",
              "      <td>https://www.goodchoice.kr/product/detail?ano=6...</td>\n",
              "      <td>9.0</td>\n",
              "      <td>4</td>\n",
              "      <td>[부모님 모시고 갔는데 너무 좋았습니다, 급하게 예약했는데 가격이 저렴하지만 전부 ...</td>\n",
              "      <td>[개수대, 매점, 주차장, BBQ, 와이파이, TV, 욕실용품, 에어컨, 냉장고, ...</td>\n",
              "    </tr>\n",
              "    <tr>\n",
              "      <th>1</th>\n",
              "      <td>고성 설악의정원 애견펜션&amp;카페</td>\n",
              "      <td>[67715]</td>\n",
              "      <td>https://www.goodchoice.kr/product/detail?ano=6...</td>\n",
              "      <td>10.0</td>\n",
              "      <td>7</td>\n",
              "      <td>[다른데는 강아지 종 따지고 소형견만 된다고 했는데\\n15~16키로 나가는 중형견 ...</td>\n",
              "      <td>[개수대, 매점, 주차장, BBQ, 와이파이, TV, 욕실용품, 에어컨, 냉장고, ...</td>\n",
              "    </tr>\n",
              "    <tr>\n",
              "      <th>2</th>\n",
              "      <td>안동 하회로가는 애견동반펜션</td>\n",
              "      <td>[68156]</td>\n",
              "      <td>https://www.goodchoice.kr/product/detail?ano=6...</td>\n",
              "      <td>10.0</td>\n",
              "      <td>5</td>\n",
              "      <td>[부모님께서 그간 여러군데 펜션을 다녀봤지만 이렇게 정있고 세심하게 챙겨주는 곳은 ...</td>\n",
              "      <td>[개수대, 매점, 주차장, BBQ, 와이파이, TV, 욕실용품, 에어컨, 냉장고, ...</td>\n",
              "    </tr>\n",
              "    <tr>\n",
              "      <th>3</th>\n",
              "      <td>거제 여울애견펜션</td>\n",
              "      <td>[67079]</td>\n",
              "      <td>https://www.goodchoice.kr/product/detail?ano=6...</td>\n",
              "      <td>10.0</td>\n",
              "      <td>2</td>\n",
              "      <td>[여울팬션   완젼  쵝오입니다!!\\n사장님께서  직접  손으로 적어주신  주변  ...</td>\n",
              "      <td>[개수대, 매점, 주차장, BBQ, 와이파이, TV, 욕실용품, 에어컨, 냉장고, ...</td>\n",
              "    </tr>\n",
              "    <tr>\n",
              "      <th>4</th>\n",
              "      <td>영흥도 아침해변펜션</td>\n",
              "      <td>[71612]</td>\n",
              "      <td>https://www.goodchoice.kr/product/detail?ano=7...</td>\n",
              "      <td>0.0</td>\n",
              "      <td>0</td>\n",
              "      <td>[]</td>\n",
              "      <td>[개수대, 매점, 주차장, BBQ, 와이파이, TV, 욕실용품, 에어컨, 냉장고, ...</td>\n",
              "    </tr>\n",
              "    <tr>\n",
              "      <th>...</th>\n",
              "      <td>...</td>\n",
              "      <td>...</td>\n",
              "      <td>...</td>\n",
              "      <td>...</td>\n",
              "      <td>...</td>\n",
              "      <td>...</td>\n",
              "      <td>...</td>\n",
              "    </tr>\n",
              "    <tr>\n",
              "      <th>495</th>\n",
              "      <td>경주 하녹풀빌라</td>\n",
              "      <td>[70461]</td>\n",
              "      <td>https://www.goodchoice.kr/product/detail?ano=7...</td>\n",
              "      <td>0.0</td>\n",
              "      <td>0</td>\n",
              "      <td>[]</td>\n",
              "      <td>[개수대, 매점, 주차장, BBQ, 와이파이, TV, 욕실용품, 에어컨, 냉장고, ...</td>\n",
              "    </tr>\n",
              "    <tr>\n",
              "      <th>496</th>\n",
              "      <td>넓은 마당에서 반려견과 함께 힐링할 수 있는 숙소 | 구름산코지하우스</td>\n",
              "      <td>[72982]</td>\n",
              "      <td>https://www.goodchoice.kr/product/detail?ano=7...</td>\n",
              "      <td>0.0</td>\n",
              "      <td>0</td>\n",
              "      <td>[]</td>\n",
              "      <td>[개수대, 매점, 주차장, BBQ, 와이파이, TV, 욕실용품, 에어컨, 냉장고, ...</td>\n",
              "    </tr>\n",
              "    <tr>\n",
              "      <th>497</th>\n",
              "      <td>동해 망상파란펜션</td>\n",
              "      <td>[57511]</td>\n",
              "      <td>https://www.goodchoice.kr/product/detail?ano=5...</td>\n",
              "      <td>7.1</td>\n",
              "      <td>15</td>\n",
              "      <td>[다시는 가고싶지않은숙소 입니다~\\n204호 2인기준 최대4인 이라했지만 넷이서 쓰...</td>\n",
              "      <td>[개수대, 매점, 주차장, BBQ, 와이파이, TV, 욕실용품, 에어컨, 냉장고, ...</td>\n",
              "    </tr>\n",
              "    <tr>\n",
              "      <th>498</th>\n",
              "      <td>김천 오색애견펜션</td>\n",
              "      <td>[67908]</td>\n",
              "      <td>https://www.goodchoice.kr/product/detail?ano=6...</td>\n",
              "      <td>9.9</td>\n",
              "      <td>12</td>\n",
              "      <td>[얘견동반 추천드립니다^^ 시설도 깨끗하고 사장님도 친절하십니다, 바로 앞에 편의점...</td>\n",
              "      <td>[개수대, 매점, 주차장, BBQ, 와이파이, TV, 욕실용품, 에어컨, 냉장고, ...</td>\n",
              "    </tr>\n",
              "    <tr>\n",
              "      <th>499</th>\n",
              "      <td>무주 그랜드펜션</td>\n",
              "      <td>[67317]</td>\n",
              "      <td>https://www.goodchoice.kr/product/detail?ano=6...</td>\n",
              "      <td>7.2</td>\n",
              "      <td>15</td>\n",
              "      <td>[사장님 친절합니다.\\n방은 우풍이 좀 있는편인데 잠자는건 잘만합니다.\\n방에 거울...</td>\n",
              "      <td>[개수대, 매점, 주차장, BBQ, 와이파이, TV, 욕실용품, 에어컨, 냉장고, ...</td>\n",
              "    </tr>\n",
              "  </tbody>\n",
              "</table>\n",
              "<p>500 rows × 7 columns</p>\n",
              "</div>\n",
              "      <button class=\"colab-df-convert\" onclick=\"convertToInteractive('df-51ad0b60-ff45-4fc8-9607-39a164b0fc96')\"\n",
              "              title=\"Convert this dataframe to an interactive table.\"\n",
              "              style=\"display:none;\">\n",
              "        \n",
              "  <svg xmlns=\"http://www.w3.org/2000/svg\" height=\"24px\"viewBox=\"0 0 24 24\"\n",
              "       width=\"24px\">\n",
              "    <path d=\"M0 0h24v24H0V0z\" fill=\"none\"/>\n",
              "    <path d=\"M18.56 5.44l.94 2.06.94-2.06 2.06-.94-2.06-.94-.94-2.06-.94 2.06-2.06.94zm-11 1L8.5 8.5l.94-2.06 2.06-.94-2.06-.94L8.5 2.5l-.94 2.06-2.06.94zm10 10l.94 2.06.94-2.06 2.06-.94-2.06-.94-.94-2.06-.94 2.06-2.06.94z\"/><path d=\"M17.41 7.96l-1.37-1.37c-.4-.4-.92-.59-1.43-.59-.52 0-1.04.2-1.43.59L10.3 9.45l-7.72 7.72c-.78.78-.78 2.05 0 2.83L4 21.41c.39.39.9.59 1.41.59.51 0 1.02-.2 1.41-.59l7.78-7.78 2.81-2.81c.8-.78.8-2.07 0-2.86zM5.41 20L4 18.59l7.72-7.72 1.47 1.35L5.41 20z\"/>\n",
              "  </svg>\n",
              "      </button>\n",
              "      \n",
              "  <style>\n",
              "    .colab-df-container {\n",
              "      display:flex;\n",
              "      flex-wrap:wrap;\n",
              "      gap: 12px;\n",
              "    }\n",
              "\n",
              "    .colab-df-convert {\n",
              "      background-color: #E8F0FE;\n",
              "      border: none;\n",
              "      border-radius: 50%;\n",
              "      cursor: pointer;\n",
              "      display: none;\n",
              "      fill: #1967D2;\n",
              "      height: 32px;\n",
              "      padding: 0 0 0 0;\n",
              "      width: 32px;\n",
              "    }\n",
              "\n",
              "    .colab-df-convert:hover {\n",
              "      background-color: #E2EBFA;\n",
              "      box-shadow: 0px 1px 2px rgba(60, 64, 67, 0.3), 0px 1px 3px 1px rgba(60, 64, 67, 0.15);\n",
              "      fill: #174EA6;\n",
              "    }\n",
              "\n",
              "    [theme=dark] .colab-df-convert {\n",
              "      background-color: #3B4455;\n",
              "      fill: #D2E3FC;\n",
              "    }\n",
              "\n",
              "    [theme=dark] .colab-df-convert:hover {\n",
              "      background-color: #434B5C;\n",
              "      box-shadow: 0px 1px 3px 1px rgba(0, 0, 0, 0.15);\n",
              "      filter: drop-shadow(0px 1px 2px rgba(0, 0, 0, 0.3));\n",
              "      fill: #FFFFFF;\n",
              "    }\n",
              "  </style>\n",
              "\n",
              "      <script>\n",
              "        const buttonEl =\n",
              "          document.querySelector('#df-51ad0b60-ff45-4fc8-9607-39a164b0fc96 button.colab-df-convert');\n",
              "        buttonEl.style.display =\n",
              "          google.colab.kernel.accessAllowed ? 'block' : 'none';\n",
              "\n",
              "        async function convertToInteractive(key) {\n",
              "          const element = document.querySelector('#df-51ad0b60-ff45-4fc8-9607-39a164b0fc96');\n",
              "          const dataTable =\n",
              "            await google.colab.kernel.invokeFunction('convertToInteractive',\n",
              "                                                     [key], {});\n",
              "          if (!dataTable) return;\n",
              "\n",
              "          const docLinkHtml = 'Like what you see? Visit the ' +\n",
              "            '<a target=\"_blank\" href=https://colab.research.google.com/notebooks/data_table.ipynb>data table notebook</a>'\n",
              "            + ' to learn more about interactive tables.';\n",
              "          element.innerHTML = '';\n",
              "          dataTable['output_type'] = 'display_data';\n",
              "          await google.colab.output.renderOutput(dataTable, element);\n",
              "          const docLink = document.createElement('div');\n",
              "          docLink.innerHTML = docLinkHtml;\n",
              "          element.appendChild(docLink);\n",
              "        }\n",
              "      </script>\n",
              "    </div>\n",
              "  </div>\n",
              "  "
            ]
          },
          "metadata": {},
          "execution_count": 167
        }
      ]
    },
    {
      "cell_type": "code",
      "source": [
        "df.to_csv(\"어기어때_결과(총3487개).csv\", index = False)"
      ],
      "metadata": {
        "id": "qWFJcLoLlNMj"
      },
      "execution_count": null,
      "outputs": []
    },
    {
      "cell_type": "code",
      "source": [
        "comments_len = 0 \n",
        "for i in total_comments:\n",
        "    comments_len += len(i)\n",
        "\n",
        "comments_len"
      ],
      "metadata": {
        "colab": {
          "base_uri": "https://localhost:8080/"
        },
        "id": "wPgn1Fh9mIpS",
        "outputId": "753a6746-2e76-422d-ef9a-4cc9e44d2bea"
      },
      "execution_count": null,
      "outputs": [
        {
          "output_type": "execute_result",
          "data": {
            "text/plain": [
              "3487"
            ]
          },
          "metadata": {},
          "execution_count": 169
        }
      ]
    },
    {
      "cell_type": "code",
      "source": [],
      "metadata": {
        "id": "-3ABRgCG0fBQ"
      },
      "execution_count": null,
      "outputs": []
    },
    {
      "cell_type": "code",
      "source": [],
      "metadata": {
        "id": "JQsOf1eAmjJ3"
      },
      "execution_count": null,
      "outputs": []
    }
  ]
}